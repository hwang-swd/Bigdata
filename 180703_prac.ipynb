{
 "cells": [
  {
   "cell_type": "markdown",
   "metadata": {},
   "source": [
    "# 과제"
   ]
  },
  {
   "cell_type": "markdown",
   "metadata": {},
   "source": [
    "### 제출자 : 황성욱"
   ]
  },
  {
   "cell_type": "markdown",
   "metadata": {},
   "source": [
    "## 105\n",
    "Write a program that reads integers from the user and stores them in a list. Use 0 as a sentinel value to mark the end of the input. Once all of the values have been read your program should display them (except for the 0) in reverse order, with one value"
   ]
  },
  {
   "cell_type": "code",
   "execution_count": 90,
   "metadata": {},
   "outputs": [
    {
     "name": "stdout",
     "output_type": "stream",
     "text": [
      "3\n",
      "4\n",
      "1\n",
      "5\n",
      "-1\n",
      "-4\n",
      "-2\n",
      "0\n",
      "values\n",
      "-2\n",
      "-4\n",
      "-1\n",
      "5\n",
      "1\n",
      "4\n",
      "3\n"
     ]
    }
   ],
   "source": [
    "num_list=[]\n",
    "b = 1\n",
    "while b:\n",
    "    a = input()\n",
    "    try:\n",
    "        b = int(a)\n",
    "    except:\n",
    "        print('숫자 입력해')\n",
    "    else:\n",
    "        num_list.append(b)\n",
    "\n",
    "end = len(num_list)-1\n",
    "num_list.pop(end)\n",
    "print('values')\n",
    "#for i in range(end-1, -1, -1):\n",
    "#    print(num_list[i])\n",
    "print(num_list)\n",
    "num_list.reverse()\n"
   ]
  },
  {
   "cell_type": "markdown",
   "metadata": {},
   "source": [
    " "
   ]
  },
  {
   "cell_type": "markdown",
   "metadata": {},
   "source": [
    "## 107\n",
    "\n",
    "In this exercise, you will create a program that reads words from the user until the user enters a blank line. After the user enters a blank line your program should dis- play each word entered by the user exactly once. The words should be displayed in\n",
    "\n",
    "the same order that they were entered. For example, if the user enters:\n",
    "\n",
    "first\n",
    "second\n",
    "first\n",
    "third\n",
    "second\n",
    "\n",
    "then your program should display:\n",
    "\n",
    "first\n",
    "second\n",
    "third"
   ]
  },
  {
   "cell_type": "code",
   "execution_count": 27,
   "metadata": {},
   "outputs": [
    {
     "name": "stdout",
     "output_type": "stream",
     "text": [
      "a\n",
      "b\n",
      "c\n",
      "a\n",
      "b\n",
      "\n",
      "a\n",
      "b\n",
      "c\n"
     ]
    }
   ],
   "source": [
    "word_list=[]\n",
    "while True:\n",
    "    word=input()\n",
    "    if word == '':\n",
    "        break\n",
    "    word_list.append(word)\n",
    "\n",
    "print_list=[]\n",
    "for i in word_list:\n",
    "    if i not in print_list:\n",
    "        print_list.append(i)\n",
    "        print(i)"
   ]
  },
  {
   "cell_type": "markdown",
   "metadata": {},
   "source": [
    " "
   ]
  },
  {
   "cell_type": "markdown",
   "metadata": {},
   "source": [
    "## 108\n",
    "Create a program that reads integers from the user until a blank line is entered. Once all of the integers have been read your program should display all of the negative numbers, followed by all of the zeros, followed by all of the positive numbers. Within each group the numbers should be displayed in the same order that they were entered by the user. For example, if the user enters the values 3, -4, 1, 0, -1, 0, and -2 then your program should output the values -4, -1, -2, 0, 0, 3, and 1. Your program should display each value on its own line."
   ]
  },
  {
   "cell_type": "code",
   "execution_count": 35,
   "metadata": {},
   "outputs": [
    {
     "name": "stdout",
     "output_type": "stream",
     "text": [
      "a\n",
      "숫자 입력해\n",
      "0\n",
      "3\n",
      "2\n",
      "-1\n",
      "-4\n",
      "-2\n",
      "\n",
      "-1\n",
      "-4\n",
      "-2\n",
      "0\n",
      "3\n",
      "2\n"
     ]
    }
   ],
   "source": [
    "num_list=[]\n",
    "neg_list=[]\n",
    "zeros=[]\n",
    "pos_list=[]\n",
    "\n",
    "while True:\n",
    "    my_input=input()\n",
    "    if my_input == '':\n",
    "        break\n",
    "    try:\n",
    "        num=int(my_input)\n",
    "\n",
    "        if num > 0:\n",
    "            pos_list.append(num)\n",
    "        elif num < 0:\n",
    "            neg_list.append(num)\n",
    "        elif num == 0:\n",
    "            zeros.append(num)\n",
    "    except:\n",
    "        print('숫자 입력해')\n",
    "\n",
    "num_list = neg_list + zeros + pos_list\n",
    "for i in num_list:\n",
    "    print(i)"
   ]
  },
  {
   "cell_type": "markdown",
   "metadata": {},
   "source": [
    " "
   ]
  },
  {
   "cell_type": "markdown",
   "metadata": {},
   "source": [
    "## 110\n",
    "An integer, n, is said to be perfect when the sum of all of the proper divisors of n is equal to n. For example, 28 is a perfect number because its proper divisors are 1, 2,\n",
    "4, 7 and 14, and 1 + 2 + 4 + 7 + 14 = 28.\n",
    "Write a function that determines whether or not a positive integer is perfect. Your\n",
    "function will take one parameter. If that parameter is a perfect number then your func- tion will return true. Otherwise it will return false. In addition, write a main program that uses your function to identify and display all of the perfect numbers between 1 and 10,000. Import your solution to Exercise 109 when completing this task."
   ]
  },
  {
   "cell_type": "code",
   "execution_count": 47,
   "metadata": {},
   "outputs": [
    {
     "name": "stdout",
     "output_type": "stream",
     "text": [
      "6\n",
      "28\n",
      "496\n",
      "8128\n"
     ]
    }
   ],
   "source": [
    "def determine(n):\n",
    "    div_list=[]\n",
    "    for i in range(1, n):\n",
    "        if not(n%i):\n",
    "            div_list.append(i)\n",
    "\n",
    "    if(sum(div_list) == n):\n",
    "        return True\n",
    "    else:\n",
    "        return False\n",
    "\n",
    "\n",
    "for i in range(1, 10001):\n",
    "    if determine(i):\n",
    "        print(i)"
   ]
  },
  {
   "cell_type": "markdown",
   "metadata": {},
   "source": [
    " "
   ]
  },
  {
   "cell_type": "markdown",
   "metadata": {},
   "source": [
    "## 113\n",
    "When writing out a list of items in English, one normally separates the items with commas. In addition, the word “and” is normally included before the last item, unless\n",
    "the list only contains one item. Consider the following four lists:\n",
    "apples\n",
    "apples and oranges\n",
    "apples, oranges and bananas\n",
    "apples, oranges, bananas and lemons\n",
    "Write a function that takes a list of strings as its only parameter. Your function should return a string that contains all of the items in the list formatted in the manner described previously as its only result. While the examples shown previously only include lists containing four elements or less, your function should behave correctly for lists of any length. Include a main program that reads several items from the user, formats them by calling your function, and then displays the result returned by the function."
   ]
  },
  {
   "cell_type": "code",
   "execution_count": 68,
   "metadata": {},
   "outputs": [
    {
     "name": "stdout",
     "output_type": "stream",
     "text": [
      "apples\n",
      "apples and oranges\n",
      "apples, oranges and bananas\n",
      "apples, oranges, bananas and lemons\n"
     ]
    }
   ],
   "source": [
    "def function(my_list):\n",
    "    if len(my_list) == 1:\n",
    "        return print(my_list[0])\n",
    "    elif len(my_list) > 1:\n",
    "        return print_list(my_list)\n",
    "\n",
    "def print_list(list_2):\n",
    "    temp = ''\n",
    "    for i in range(0, len(list_2)-1):\n",
    "        temp += list_2[i]\n",
    "        temp += ', '\n",
    "\n",
    "    temp = temp[:-2]\n",
    "    temp = temp + ' and ' + list_2[-1]\n",
    "    print(temp)\n",
    "\n",
    "\n",
    "function(['apples'])\n",
    "function(['apples', 'oranges'])\n",
    "function(['apples', 'oranges', 'bananas'])\n",
    "function(['apples', 'oranges', 'bananas', 'lemons'])"
   ]
  },
  {
   "cell_type": "markdown",
   "metadata": {},
   "source": [
    " "
   ]
  },
  {
   "cell_type": "markdown",
   "metadata": {},
   "source": [
    "## 114\n",
    "In order to win the top prize in a particular lottery, one must match all 6 numbers on his or her ticket to the 6 numbers between 1 and 49 that are drawn by the lottery organizer. Write a program that generates a random selection of 6 numbers for a lottery ticket. Ensure that the 6 numbers selected do not contain any duplicates. Display the numbers in ascending order."
   ]
  },
  {
   "cell_type": "code",
   "execution_count": 84,
   "metadata": {},
   "outputs": [
    {
     "name": "stdout",
     "output_type": "stream",
     "text": [
      "[18, 24, 31, 33, 37, 41]\n"
     ]
    }
   ],
   "source": [
    "from random import randint\n",
    "\n",
    "lot_list = []\n",
    "flag = True\n",
    "while flag:\n",
    "    i = randint(1, 50)\n",
    "    if i not in lot_list:\n",
    "        lot_list.append(i)\n",
    "    if len(lot_list) > 5:\n",
    "        flag = False\n",
    "\n",
    "lot_list.sort()\n",
    "print(lot_list)"
   ]
  },
  {
   "cell_type": "markdown",
   "metadata": {},
   "source": [
    " "
   ]
  },
  {
   "cell_type": "markdown",
   "metadata": {},
   "source": [
    "## 134\n",
    "Create a program that determines and displays the number of unique characters in a string entered by the user. For example, Hello, World! has 10 unique characters while zzz has only one unique character. Use a dictionary or set to solve this problem."
   ]
  },
  {
   "cell_type": "code",
   "execution_count": 89,
   "metadata": {},
   "outputs": [
    {
     "name": "stdout",
     "output_type": "stream",
     "text": [
      "hello, world!\n",
      "{'d', 'l', 'o', 'e', '!', ',', 'w', 'h', 'r', ' '}\n",
      "10\n"
     ]
    }
   ],
   "source": [
    "st = input()\n",
    "st_set = set()\n",
    "for i in st:\n",
    "    st_set.add(i)\n",
    "print(st_set)\n",
    "print(len(st_set))"
   ]
  },
  {
   "cell_type": "markdown",
   "metadata": {},
   "source": [
    " "
   ]
  },
  {
   "cell_type": "markdown",
   "metadata": {},
   "source": [
    "## 135\n",
    "Two words are anagrams if they contain all of the same letters, but in a different order. For example, “evil” and “live” are anagrams because each contains one e, one i, one l, and one v. Create a program that reads two strings from the user, determines\n",
    "whether or not they are anagrams, and reports the result."
   ]
  },
  {
   "cell_type": "code",
   "execution_count": 94,
   "metadata": {},
   "outputs": [
    {
     "name": "stdout",
     "output_type": "stream",
     "text": [
      "evill\n",
      "livel\n",
      "True\n"
     ]
    }
   ],
   "source": [
    "str1 = input()\n",
    "str2 = input()\n",
    "str1_list = []\n",
    "str2_list = []\n",
    "\n",
    "for i in str1:\n",
    "    str1_list.append(i)\n",
    "for i in str2:\n",
    "    str2_list.append(i)\n",
    "\n",
    "str1_list.sort()\n",
    "str2_list.sort()\n",
    "print(str1_list == str2_list)"
   ]
  },
  {
   "cell_type": "code",
   "execution_count": null,
   "metadata": {},
   "outputs": [],
   "source": []
  }
 ],
 "metadata": {
  "kernelspec": {
   "display_name": "Python 3",
   "language": "python",
   "name": "python3"
  },
  "language_info": {
   "codemirror_mode": {
    "name": "ipython",
    "version": 3
   },
   "file_extension": ".py",
   "mimetype": "text/x-python",
   "name": "python",
   "nbconvert_exporter": "python",
   "pygments_lexer": "ipython3",
   "version": "3.6.5"
  }
 },
 "nbformat": 4,
 "nbformat_minor": 2
}
