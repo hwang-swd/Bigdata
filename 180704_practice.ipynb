{
 "cells": [
  {
   "cell_type": "markdown",
   "metadata": {},
   "source": [
    "# 과제"
   ]
  },
  {
   "cell_type": "markdown",
   "metadata": {},
   "source": [
    "#### 제출자 : 황성욱"
   ]
  },
  {
   "cell_type": "markdown",
   "metadata": {},
   "source": [
    "## 61\n",
    "In this exercise you will create a program that computes the average of a collection \n",
    "of values entered by the user. The user will enter 0 as a sentinel value to indicate \n",
    "that no further values will be provided. Your program should display an appropriate \n",
    "error message if the ﬁrst value entered by the user is 0."
   ]
  },
  {
   "cell_type": "code",
   "execution_count": 2,
   "metadata": {},
   "outputs": [
    {
     "name": "stdout",
     "output_type": "stream",
     "text": [
      "3\n",
      "4\n",
      "5\n",
      "\n",
      "0\n",
      "[3, 4, 5]\n",
      "4.0\n"
     ]
    }
   ],
   "source": [
    "num_list = []\n",
    "while True:\n",
    "    num = input()\n",
    "    try:\n",
    "        num = int(num)\n",
    "        if num == 0:\n",
    "            break\n",
    "    except:\n",
    "        continue\n",
    "    else:\n",
    "        num_list.append(num)\n",
    "\n",
    "print(num_list)\n",
    "print(sum(num_list)/len(num_list))"
   ]
  },
  {
   "cell_type": "markdown",
   "metadata": {},
   "source": [
    " "
   ]
  },
  {
   "cell_type": "markdown",
   "metadata": {},
   "source": [
    "## 63\n",
    "Write a program that displays a temperature conversion table for degrees Celsius and \n",
    "degrees Fahrenheit. The table should include rows for all temperatures between 0 \n",
    "and 100 degrees Celsius thatare multiples of 10degrees Celsius.Include appropriate \n",
    "headings on your columns. The formula for converting between degrees Celsius and \n",
    "degrees Fahrenheit can be found on the internet."
   ]
  },
  {
   "cell_type": "code",
   "execution_count": 155,
   "metadata": {},
   "outputs": [
    {
     "name": "stdout",
     "output_type": "stream",
     "text": [
      "celsius fahrenheit\n",
      "    0      32.0\n",
      "   10      50.0\n",
      "   20      68.0\n",
      "   30      86.0\n",
      "   40     104.0\n",
      "   50     122.0\n",
      "   60     140.0\n",
      "   70     158.0\n",
      "   80     176.0\n",
      "   90     194.0\n"
     ]
    }
   ],
   "source": [
    "cels = []\n",
    "farh = []\n",
    "temp_list = []\n",
    "for i in range(0,100,10):\n",
    "    cels.append(i)\n",
    "    farh.append(i*9/5+32)\n",
    "\n",
    "for i in range(0,10):\n",
    "    temp_list.append([cels[i], farh[i]])\n",
    "\n",
    "print('celsius fahrenheit')\n",
    "for i in range(0,10):\n",
    "    print(\"%5d %9.1f\" % (temp_list[i][0], temp_list[i][1]), end='')\n",
    "    print()"
   ]
  },
  {
   "cell_type": "markdown",
   "metadata": {},
   "source": [
    " "
   ]
  },
  {
   "cell_type": "markdown",
   "metadata": {},
   "source": [
    "## 66\n",
    "Exercise 51 included a table that shows the conversion from letter grades to grade \n",
    "points at a particular academic institution. In this exercise you will compute the \n",
    "grade point average of an arbitrary number of letter grades entered by the user. The \n",
    "user will enter a blank line to indicate that all of the grades have been provided. For \n",
    "example, if the user enters A, followed by C+, followed by B, followed by a blank \n",
    "line then your program should report a grade point average of 3.1.\n",
    "You may ﬁnd your solution to Exercise 51 helpful when completing this exercise. \n",
    "Your program does not need to do any error checking. It can assume that each value \n",
    "entered by the user will always be a valid letter grade or a blank line."
   ]
  },
  {
   "cell_type": "code",
   "execution_count": 35,
   "metadata": {},
   "outputs": [
    {
     "name": "stdout",
     "output_type": "stream",
     "text": [
      "A\n",
      "1\n",
      "A\n",
      "1\n",
      "B\n",
      "4\n",
      "\n",
      "3.7\n"
     ]
    }
   ],
   "source": [
    "letter_list = ['A+', 'A', 'A-', 'B+', 'B', 'B-', 'C+', 'C', 'C-', 'D+', 'D', 'F']\n",
    "grade_points = [4.0, 4.0, 3.7, 3.3, 3.0, 2.7, 2.3, 2.0, 1.7, 1.3, 1.0, 0]\n",
    "gpa_list = []\n",
    "\n",
    "while True:\n",
    "    letter = input()\n",
    "    if letter == '':\n",
    "        break\n",
    "    try:\n",
    "        idx = letter_list.index(letter)\n",
    "    except:\n",
    "        continue\n",
    "    else:\n",
    "        print(idx)\n",
    "        gpa_list.append(grade_points[idx])\n",
    "\n",
    "print(\"%.1f\" % (sum(gpa_list)/len(gpa_list)))"
   ]
  },
  {
   "cell_type": "markdown",
   "metadata": {},
   "source": [
    " "
   ]
  },
  {
   "cell_type": "markdown",
   "metadata": {},
   "source": [
    "## 67\n",
    "A particular zoo determines the price of admission based on the age of the guest. \n",
    "Guests 2 years of age and less are admitted without charge. Children between 3 and \n",
    "12 years of age cost $14.00. Seniors aged 65 years and over cost $18.00. Admission \n",
    "for all other guests is $23.00.\n",
    "Create a program that begins by reading the ages of all of the guests in a group \n",
    "from the user, with one age entered on each line. The user will enter a blank line to \n",
    "indicatethattherearenomoreguestsinthegroup.Thenyourprogram shoulddisplay \n",
    "the admission cost for the group with an appropriate message. The cost should be \n",
    "displayed using two decimal places."
   ]
  },
  {
   "cell_type": "code",
   "execution_count": 68,
   "metadata": {},
   "outputs": [
    {
     "name": "stdout",
     "output_type": "stream",
     "text": [
      "3\n",
      "4\n",
      "5\n",
      "\n",
      "The admission cost is $42.00\n"
     ]
    }
   ],
   "source": [
    "num_list = []\n",
    "cost = 0.0\n",
    "\n",
    "while True:\n",
    "    num = input()\n",
    "    if num =='':\n",
    "        break\n",
    "    try:\n",
    "        num = int(num)\n",
    "    except:\n",
    "        continue\n",
    "    else:\n",
    "        if 2 < num < 13:\n",
    "            cost += 14.00\n",
    "        elif 12 < num < 65:\n",
    "            cost += 23.00\n",
    "        elif 64 < num:\n",
    "            cost += 18.00\n",
    "            \n",
    "print(\"The admission cost is $%.2f\" % cost)"
   ]
  },
  {
   "cell_type": "markdown",
   "metadata": {},
   "source": [
    " "
   ]
  },
  {
   "cell_type": "markdown",
   "metadata": {},
   "source": [
    "## 72\n",
    "A string is a palindrome if it is identicalforward and backward. For example “anna”, \n",
    "“civic”,“level”and “hannah”areallexamplesof palindromicwords.Writeaprogram \n",
    "that reads a string from the user and uses a loop to determines whether or not it is a \n",
    "palindrome. Display the result, including a meaningful output message."
   ]
  },
  {
   "cell_type": "code",
   "execution_count": 73,
   "metadata": {},
   "outputs": [
    {
     "name": "stdout",
     "output_type": "stream",
     "text": [
      "wow\n",
      "is a palindromic word\n",
      "civic\n",
      "is a palindromic word\n",
      "level\n",
      "is a palindromic word\n",
      "hannah\n",
      "is a palindromic word\n",
      "no\n",
      "is not a palindromic word\n",
      "yes\n",
      "is not a palindromic word\n",
      "hello\n",
      "is not a palindromic word\n",
      "heleh\n",
      "is a palindromic word\n",
      "\n"
     ]
    }
   ],
   "source": [
    "while True:\n",
    "    letter = []\n",
    "    word = input()\n",
    "    if word == '':\n",
    "        break\n",
    "    for i in word:\n",
    "        letter.append(i)\n",
    "\n",
    "    l = len(letter)\n",
    "    flag = True\n",
    "    for i in range(0,int(l/2)):\n",
    "        if letter[i] != letter[l-i-1]:\n",
    "            flag = False\n",
    "            break\n",
    "    if flag == True:\n",
    "        print(\"is a palindromic word\")\n",
    "    else:\n",
    "        print(\"is not a palindromic word\")"
   ]
  },
  {
   "cell_type": "markdown",
   "metadata": {},
   "source": [
    " "
   ]
  },
  {
   "cell_type": "markdown",
   "metadata": {},
   "source": [
    "## 74\n",
    "In this exercise you will create a program that displays a multiplication table that \n",
    "showsthe products ofall combinations of integers from 1times 1 up toand including \n",
    "10 times 10. Your multiplication table should include a row of labels across the top \n",
    "of it containing the numbers 1 through 10. It should also include labels down the left \n",
    "side consisting of the numbers 1 through 10. The expected output from the program \n",
    "is shown below:"
   ]
  },
  {
   "cell_type": "code",
   "execution_count": 173,
   "metadata": {},
   "outputs": [
    {
     "name": "stdout",
     "output_type": "stream",
     "text": [
      "       1   2   3   4   5   6   7   8   9  10\n",
      "   1   1   2   3   4   5   6   7   8   9  10\n",
      "   2   2   4   6   8  10  12  14  16  18  20\n",
      "   3   3   6   9  12  15  18  21  24  27  30\n",
      "   4   4   8  12  16  20  24  28  32  36  40\n",
      "   5   5  10  15  20  25  30  35  40  45  50\n",
      "   6   6  12  18  24  30  36  42  48  54  60\n",
      "   7   7  14  21  28  35  42  49  56  63  70\n",
      "   8   8  16  24  32  40  48  56  64  72  80\n",
      "   9   9  18  27  36  45  54  63  72  81  90\n",
      "  10  10  20  30  40  50  60  70  80  90 100\n"
     ]
    }
   ],
   "source": [
    "num_list = []\n",
    "for i in range(1,11):\n",
    "    temp_num = []\n",
    "    for j in range(1,11):\n",
    "        temp_num.append(i*j)\n",
    "    num_list.append(temp_num)\n",
    "\n",
    "print(\"    \", end='')\n",
    "for i in num_list[0]:\n",
    "    print(\"%4d\" % i, end='')\n",
    "print()\n",
    "for i in range(0,10):\n",
    "    print(\"%4d\" % num_list[0][i], end='')\n",
    "    for j in range(0,10):\n",
    "        print(\"%4d\" % num_list[i][j], end='')\n",
    "    print()"
   ]
  },
  {
   "cell_type": "code",
   "execution_count": 83,
   "metadata": {},
   "outputs": [
    {
     "name": "stdout",
     "output_type": "stream",
     "text": [
      "       1   2   3   4   5   6   7   8   9  10\n",
      "   1   1   2   3   4   5   6   7   8   9  10\n",
      "   2   2   4   6   8  10  12  14  16  18  20\n",
      "   3   3   6   9  12  15  18  21  24  27  30\n",
      "   4   4   8  12  16  20  24  28  32  36  40\n",
      "   5   5  10  15  20  25  30  35  40  45  50\n",
      "   6   6  12  18  24  30  36  42  48  54  60\n",
      "   7   7  14  21  28  35  42  49  56  63  70\n",
      "   8   8  16  24  32  40  48  56  64  72  80\n",
      "   9   9  18  27  36  45  54  63  72  81  90\n",
      "  10  10  20  30  40  50  60  70  80  90 100\n"
     ]
    }
   ],
   "source": [
    "num_list = list(range(1,11))\n",
    "print(\"    \", end='')\n",
    "for i in num_list:\n",
    "    print(\"%4d\" % i, end='')\n",
    "print()\n",
    "for i in num_list:\n",
    "    print(\"%4d\" % i, end='')\n",
    "    for j in num_list:\n",
    "        print(\"%4d\" % (i*j), end='')\n",
    "    print()"
   ]
  },
  {
   "cell_type": "markdown",
   "metadata": {},
   "source": [
    " "
   ]
  },
  {
   "cell_type": "markdown",
   "metadata": {},
   "source": [
    "## 75\n",
    "The greatest common divisor of two positiveintegers, n and m,is thelargestnumber, \n",
    "d, which divides evenly into both n and m. There are several algorithms that can be \n",
    "used to solve this problem, including:\n",
    "Initialize d to the smaller of m and n.\n",
    "While d does not evenly divide m or d does not evenly divide n do\n",
    "Decrease the value of d by 1\n",
    "Report d as the greatest common divisor of n and m\n",
    "Writeaprogramthatreadstwopositiveintegersfromtheuserandusesthis algorithm \n",
    "to determine and report their greatest common divisor."
   ]
  },
  {
   "cell_type": "code",
   "execution_count": 111,
   "metadata": {},
   "outputs": [
    {
     "name": "stdout",
     "output_type": "stream",
     "text": [
      "4  is the greatest common divisor of  12  and  16\n",
      "3  is the greatest common divisor of  3  and  12\n",
      "1  is the greatest common divisor of  5  and  18\n"
     ]
    }
   ],
   "source": [
    "def gcd(m,n):\n",
    "    if(m>n):\n",
    "        temp = m\n",
    "        m = n\n",
    "        n = temp\n",
    "    d = m\n",
    "    for i in range(d, 0, -1):\n",
    "        if n%i == 0 and m%i == 0:\n",
    "            break\n",
    "    print(i, \" is the greatest common divisor of \", m, \" and \", n)\n",
    "\n",
    "gcd(12,16)\n",
    "gcd(12, 3)\n",
    "gcd(5, 18)"
   ]
  },
  {
   "cell_type": "markdown",
   "metadata": {},
   "source": [
    " "
   ]
  },
  {
   "cell_type": "markdown",
   "metadata": {},
   "source": [
    "## 77\n",
    "Write a program that converts a binary (base 2) number to decimal (base 10). Your \n",
    "program should begin by reading the binary number from the user as a string. Then \n",
    "it should compute the equivalent decimal number by processing each digit in the \n",
    "binary number. Finally, your program should display the equivalent decimal number \n",
    "with an appropriate message."
   ]
  },
  {
   "cell_type": "code",
   "execution_count": 115,
   "metadata": {},
   "outputs": [
    {
     "name": "stdout",
     "output_type": "stream",
     "text": [
      "1111\n",
      "15\n",
      "10\n",
      "2\n",
      "1\n",
      "1\n",
      "111\n",
      "7\n",
      "101\n",
      "5\n",
      "011\n",
      "3\n",
      "0\n"
     ]
    }
   ],
   "source": [
    "def binary_to_decimal(n):\n",
    "    bi_list = []\n",
    "    dec = 0\n",
    "    for i in n:\n",
    "        bi_list.append(int(i))\n",
    "    l = len(bi_list)\n",
    "    for i in range(0, len(bi_list)):\n",
    "        l -= 1\n",
    "        dec += pow(2,l) * bi_list[i]\n",
    "    \n",
    "    return print(dec)\n",
    "\n",
    "\n",
    "while True:\n",
    "    num = input()\n",
    "    try:\n",
    "        if int(num) == 0:\n",
    "            break\n",
    "    except:\n",
    "        continue\n",
    "    else:\n",
    "        binary_to_decimal(num)"
   ]
  },
  {
   "cell_type": "markdown",
   "metadata": {},
   "source": [
    " "
   ]
  },
  {
   "cell_type": "markdown",
   "metadata": {},
   "source": [
    "## 78\n",
    "Writeaprogramthatconvertsadecimal(base10)numbertobinary(base2).Readthe \n",
    "decimalnumberfromtheuserasanintegerandthenusethedivision algorithmshown \n",
    "below to perform the conversion. When the algorithm completes, result contains the \n",
    "binary representation of the number. Display the result, along with an appropriate \n",
    "message.\n",
    "Let result be an empty string\n",
    "Let q represent the number to convert \n",
    "repeat\n",
    "Set r equal to the remainder when q is divided by 2 \n",
    "Convert r to a string and add it to the beginning of result \n",
    "Divide q by 2, discarding any remainder, and store the result back into q \n",
    "until q is 0"
   ]
  },
  {
   "cell_type": "code",
   "execution_count": 146,
   "metadata": {},
   "outputs": [
    {
     "name": "stdout",
     "output_type": "stream",
     "text": [
      "10\n",
      "1010\n",
      "2\n",
      "10\n",
      "1\n",
      "1\n",
      "20\n",
      "10100\n",
      "0\n"
     ]
    }
   ],
   "source": [
    "def decimal_to_binary(q):\n",
    "    result = ''\n",
    "    r = 0\n",
    "    while True:\n",
    "        if q == 0:\n",
    "            break\n",
    "        if q%2 == 0:\n",
    "            r = q%2\n",
    "            result = str(r) + result\n",
    "        else:\n",
    "            result = '1' + result\n",
    "        q = q//2\n",
    "\n",
    "    print(result)\n",
    "\n",
    "\n",
    "while True:\n",
    "    num = input()\n",
    "    try:\n",
    "        num = int(num)\n",
    "        if num == 0:\n",
    "            break\n",
    "    except:\n",
    "        continue\n",
    "    else:\n",
    "        decimal_to_binary(num)"
   ]
  },
  {
   "cell_type": "code",
   "execution_count": null,
   "metadata": {},
   "outputs": [],
   "source": []
  }
 ],
 "metadata": {
  "kernelspec": {
   "display_name": "Python 3",
   "language": "python",
   "name": "python3"
  },
  "language_info": {
   "codemirror_mode": {
    "name": "ipython",
    "version": 3
   },
   "file_extension": ".py",
   "mimetype": "text/x-python",
   "name": "python",
   "nbconvert_exporter": "python",
   "pygments_lexer": "ipython3",
   "version": "3.6.5"
  }
 },
 "nbformat": 4,
 "nbformat_minor": 2
}
