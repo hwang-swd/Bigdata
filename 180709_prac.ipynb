{
 "cells": [
  {
   "cell_type": "markdown",
   "metadata": {},
   "source": [
    "# 과제\n",
    "#### 황성욱"
   ]
  },
  {
   "cell_type": "markdown",
   "metadata": {},
   "source": [
    "## 129\n",
    "In this exercise you will simulate 1,000 rolls of two dice. Begin by writing a func- \n",
    "tion that simulates rolling a pair of six-sided dice. Your function will not take any \n",
    "parameters. It will return the total that was rolled on two dice as its only result.\n",
    "Write a main program that uses your function to simulate rolling two six-sided \n",
    "dice1,000times.As yourprogram runs,itshouldcountthenumberoftimesthateach \n",
    "total occurs. Then it should display a table that summarizes this data. Express the \n",
    "frequency for each total as a percentage of the total number of rolls. Your program \n",
    "should also display the percentage expected by probability theory for each total. \n",
    "Sample output is shown below."
   ]
  },
  {
   "cell_type": "code",
   "execution_count": 3,
   "metadata": {},
   "outputs": [],
   "source": []
  },
  {
   "cell_type": "code",
   "execution_count": 29,
   "metadata": {},
   "outputs": [
    {
     "name": "stdout",
     "output_type": "stream",
     "text": [
      "Total  Simulated  Expected\n",
      "         Percent   Percent\n",
      "   2        2.9       2.78\n",
      "   3        5.0       5.56\n",
      "   4        8.5       8.33\n",
      "   5       10.0       11.1\n",
      "   6       15.0       13.9\n",
      "   7       15.4       16.7\n",
      "   8       14.3       13.9\n",
      "   9       11.3       11.1\n",
      "  10        8.8       8.33\n",
      "  11        5.9       5.56\n",
      "  12        2.9       2.78\n"
     ]
    }
   ],
   "source": [
    "from random import randint\n",
    "\n",
    "def roll_two_dice(n):\n",
    "    dice_list = [0]*11\n",
    "    dice_exp = [1/36, 2/36, 3/36, 4/36, 5/36, 6/36, 5/36, 4/36, 3/36, 2/36, 1/36]\n",
    "    for i in range(n):\n",
    "        dice_temp = []\n",
    "        for j in range(2):\n",
    "            dice_temp.append(randint(1,6))\n",
    "        dice_list[sum(dice_temp)-2] += 1\n",
    "\n",
    "    print(\"Total  Simulated  Expected\")\n",
    "    print(\"         Percent   Percent\")\n",
    "    for i in range(11):\n",
    "        print(\"{:4} {:10.3} {:10.3}\".format(i+2, dice_list[i]/n*100, dice_exp[i]*100))\n",
    "    \n",
    "    \n",
    "roll_two_dice(1000)        "
   ]
  },
  {
   "cell_type": "code",
   "execution_count": 133,
   "metadata": {},
   "outputs": [
    {
     "name": "stdout",
     "output_type": "stream",
     "text": [
      "Total  Simulated  Expected\n",
      "         Percent   Percent\n",
      "   2        3.1       2.78\n",
      "   3        4.2       5.56\n",
      "   4        8.0       8.33\n",
      "   5       11.9       11.1\n",
      "   6       11.1       13.9\n",
      "   7       19.1       16.7\n",
      "   8       14.9       13.9\n",
      "   9       11.6       11.1\n",
      "  10        8.6       8.33\n",
      "  11        5.3       5.56\n",
      "  12        2.2       2.78\n"
     ]
    }
   ],
   "source": [
    "from random import randint\n",
    "\n",
    "def roll_two_dice(n):\n",
    "    dice_list = {i:0 for i in range(2,13)}\n",
    "    dice_exp = [1/36, 2/36, 3/36, 4/36, 5/36, 6/36, 5/36, 4/36, 3/36, 2/36, 1/36]\n",
    "    for i in range(n):\n",
    "        res = randint(1,6)+randint(1,6)\n",
    "        if res in dice_list:\n",
    "            dice_list[res] = dice_list.get(res, 0) + 1\n",
    "\n",
    "    print(\"Total  Simulated  Expected\")\n",
    "    print(\"         Percent   Percent\")\n",
    "    for i in range(2,13):\n",
    "        print(\"{:4} {:10.3} {:10.3}\".format(i, dice_list[i]/n*100, dice_exp[i-2]*100))\n",
    "    \n",
    "roll_two_dice(1000)        "
   ]
  },
  {
   "cell_type": "code",
   "execution_count": null,
   "metadata": {},
   "outputs": [],
   "source": []
  },
  {
   "cell_type": "markdown",
   "metadata": {},
   "source": [
    "## 130\n",
    "On some basic cell phones, text messages can be sent using the numeric keypad. \n",
    "Because each key has multiple letters associated with it, multiple key presses are \n",
    "needed for most letters. Pressing the number once generates the ﬁrst letter on the \n",
    "key. Pressing the number 2, 3, 4 or 5 times generates the second, third, fourth or ﬁfth \n",
    "character listed for that key.\n",
    "\n",
    "Write a program that displays the key presses that must be made to enter a text \n",
    "message read from the user. Construct a dictionary that maps from each letter or \n",
    "symboltothekey presses.Thenusethe dictionaryto generateanddisplaythepresses \n",
    "for the user’s message. For example, if the user enters Hello, World! then your \n",
    "program should output 4433555555666110966677755531111. Ensure that \n",
    "your program handles both uppercase and lowercase letters. Ignore any characters \n",
    "that aren’t listed in the table above such as semicolons and brackets."
   ]
  },
  {
   "cell_type": "code",
   "execution_count": 73,
   "metadata": {},
   "outputs": [],
   "source": [
    "symbols = {'.':1,',':11,'?':111,'!':1111,':':11111,'A':2,'B':22,'C':222,'D':3,'E':33,'F':333,'G':4,'H':44,'I':444,\n",
    "           'J':5,'K':55,'L':555,'M':6,'N':66,'O':666,'P':7,'Q':77,'R':777,'S':7777,'T':8,'U':88,'V':888,\n",
    "           'W':9,'X':99,'Y':999,'Z':9999,' ':0}"
   ]
  },
  {
   "cell_type": "code",
   "execution_count": 87,
   "metadata": {},
   "outputs": [
    {
     "name": "stdout",
     "output_type": "stream",
     "text": [
      "Hello, World!\n",
      "4433555555666110966677755531111"
     ]
    }
   ],
   "source": [
    "msg = input()\n",
    "for i in msg.upper():\n",
    "    print(symbols.get(i),end=\"\")"
   ]
  },
  {
   "cell_type": "code",
   "execution_count": null,
   "metadata": {},
   "outputs": [],
   "source": []
  },
  {
   "cell_type": "markdown",
   "metadata": {},
   "source": [
    "## 131\n",
    "Morse code is an encoding scheme that uses dashes and dots to represent numbers \n",
    "and letters. In this exercise, you will write a program that uses a dictionary to store \n",
    "the mapping from letters and numbers to Morse code.Use aperiod to representadot, \n",
    "and a hyphen to represent a dash. The mapping from letters and numbers to dashes \n",
    "and dots is shown in Table 6.1.\n",
    "Your program should read a message from the user. Then it should translate each \n",
    "letter and number in the message to Morse code, leaving a space between each \n",
    "sequence of dashes and dots. Your program should ignore any characters that are not \n",
    "letters or numbers. The Morse code for Hello, World! is shown below:"
   ]
  },
  {
   "cell_type": "code",
   "execution_count": 93,
   "metadata": {},
   "outputs": [],
   "source": [
    "morse = {'A':'.-','B':'-...','C':'-.-.','D':'-..','E':'.','F':'..-.','G':'--.','H':'....',\n",
    "         'I':'..','J':'.---','K':'-.-','L':'.-..','M':'--','N':'-.','O':'---','P':'.--.',\n",
    "         'Q':'--.-','R':'.-.','S':'...','T':'-','U':'..-','V':'...-','W':'.--','X':'-..-',\n",
    "         'Y':'-.--','Z':'--..','0':'-----','1':'.----','2':'..---','3':'...--','4':'....-',\n",
    "         '5':'.....','6':'-....','7':'--...','8':'---..','9':'----.'}"
   ]
  },
  {
   "cell_type": "code",
   "execution_count": 102,
   "metadata": {},
   "outputs": [
    {
     "name": "stdout",
     "output_type": "stream",
     "text": [
      "Hello, World!\n",
      ".... . .-.. .-.. --- .-- --- .-. .-.. -.. "
     ]
    }
   ],
   "source": [
    "msg2 = input()\n",
    "for i in msg2.upper():\n",
    "    if i not in morse:\n",
    "        continue\n",
    "    print(morse.get(i), end=\" \")"
   ]
  },
  {
   "cell_type": "markdown",
   "metadata": {},
   "source": [
    "## 132\n",
    "In a Canadian postal code, the ﬁrst, third and ﬁfth characters are letters while the \n",
    "second, fourth and sixth characters are numbers. The province can be determined \n",
    "from the ﬁrst character of a postal code, as shown in the following table. No valid \n",
    "postal codes currently begin with D, F, I, O, Q, U, W, or Z.\n",
    "The second character in a postal code identiﬁes whether the address is rural or \n",
    "urban. If that character is a 0 then the address is rural. Otherwise it is urban.\n",
    "Create a program that reads a postal code from the user and displays the province \n",
    "associated with it, along with whether the address is urban or rural. For example, \n",
    "if the user enters T2N 1N4 then your program should indicate that the postal code \n",
    "is for an urban address in Alberta. If the user enters X0A 1B2 then your program \n",
    "should indicate that the postal code is for a rural address in Nunavut or Northwest \n",
    "Territories. Use a dictionary to map from the ﬁrst character of the postal code to the \n",
    "province name. Display a meaningful error message if the postal code begins with \n",
    "an invalid character."
   ]
  },
  {
   "cell_type": "code",
   "execution_count": 103,
   "metadata": {},
   "outputs": [],
   "source": [
    "postal = {'A':'Newfoundland','B':'Nova Scotia','C':'Prince Edward Island','E':'New Brunswick',\n",
    "         'G':'Quebec','H':'Quebec','J':'Quebec','K':'Ontario','L':'Ontario','M':'Ontario',\n",
    "         'N':'Ontario','P':'Ontario','R':'Manitoba','S':'Saskatchewan','T':'Alberta',\n",
    "         'V':'British Columbia','X':'Nunavut or Northwest Territories','Y':'Yukon'}"
   ]
  },
  {
   "cell_type": "code",
   "execution_count": 108,
   "metadata": {},
   "outputs": [
    {
     "name": "stdout",
     "output_type": "stream",
     "text": [
      "X0A 1B2\n",
      "urban address in Nunavut or Northwest Territories\n"
     ]
    }
   ],
   "source": [
    "addr = input()\n",
    "addr_list=[]\n",
    "for i in addr:\n",
    "    addr_list.append(i)\n",
    "\n",
    "if addr_list[1] == 0:\n",
    "    print('rural address in ', end=\"\")\n",
    "else:\n",
    "    print('urban address in ', end=\"\")\n",
    "    \n",
    "print(postal.get(addr_list[0])) if addr_list[0] in postal else print('error')"
   ]
  },
  {
   "cell_type": "code",
   "execution_count": 109,
   "metadata": {},
   "outputs": [
    {
     "name": "stdout",
     "output_type": "stream",
     "text": [
      "T2N 1N4\n",
      "urban address in Alberta\n"
     ]
    }
   ],
   "source": [
    "addr = input()\n",
    "addr_list=[]\n",
    "for i in addr:\n",
    "    addr_list.append(i)\n",
    "\n",
    "# if addr_list[1] == 0:\n",
    "#     print('rural address in ', end=\"\")\n",
    "# else:\n",
    "#     print('urban address in ', end=\"\")\n",
    "\n",
    "if addr_list[1]:\n",
    "    print('urban address in ', end=\"\")\n",
    "else:\n",
    "    print('rural address in ', end=\"\")\n",
    "    \n",
    "print(postal.get(addr_list[0])) if addr_list[0] in postal else print('error')"
   ]
  },
  {
   "cell_type": "code",
   "execution_count": null,
   "metadata": {},
   "outputs": [],
   "source": []
  },
  {
   "cell_type": "code",
   "execution_count": null,
   "metadata": {},
   "outputs": [],
   "source": []
  },
  {
   "cell_type": "code",
   "execution_count": null,
   "metadata": {},
   "outputs": [],
   "source": []
  },
  {
   "cell_type": "code",
   "execution_count": null,
   "metadata": {},
   "outputs": [],
   "source": []
  },
  {
   "cell_type": "code",
   "execution_count": null,
   "metadata": {},
   "outputs": [],
   "source": []
  }
 ],
 "metadata": {
  "kernelspec": {
   "display_name": "Python 3",
   "language": "python",
   "name": "python3"
  },
  "language_info": {
   "codemirror_mode": {
    "name": "ipython",
    "version": 3
   },
   "file_extension": ".py",
   "mimetype": "text/x-python",
   "name": "python",
   "nbconvert_exporter": "python",
   "pygments_lexer": "ipython3",
   "version": "3.6.5"
  }
 },
 "nbformat": 4,
 "nbformat_minor": 2
}
