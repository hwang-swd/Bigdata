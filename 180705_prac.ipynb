{
 "cells": [
  {
   "cell_type": "markdown",
   "metadata": {},
   "source": [
    "# 과제"
   ]
  },
  {
   "cell_type": "markdown",
   "metadata": {},
   "source": [
    "#### 황성욱"
   ]
  },
  {
   "cell_type": "markdown",
   "metadata": {},
   "source": [
    "### 82\n",
    "In a particular jurisdiction, taxi fares consist of a base fare of $4.00, plus $0.25 \n",
    "for every 140 meters traveled. Write a function that takes the distance traveled (in \n",
    "kilometers) as its only parameter and returns the total fare as its only result. Write a \n",
    "main program that demonstrates the function."
   ]
  },
  {
   "cell_type": "code",
   "execution_count": 1,
   "metadata": {},
   "outputs": [
    {
     "name": "stdout",
     "output_type": "stream",
     "text": [
      "57.5\n",
      "79.25\n",
      "25.25\n"
     ]
    }
   ],
   "source": [
    "def fare(km):\n",
    "    base=4.00\n",
    "    rate=0.25\n",
    "    total = base + rate*int(km/0.14)\n",
    "    \n",
    "    return total\n",
    "\n",
    "print(fare(30))\n",
    "print(fare(42.195))\n",
    "print(fare(12))"
   ]
  },
  {
   "cell_type": "code",
   "execution_count": null,
   "metadata": {},
   "outputs": [],
   "source": []
  },
  {
   "cell_type": "markdown",
   "metadata": {},
   "source": [
    "### 84\n",
    "Writea functionthattakesthreenumbers as parameters,andreturns themedianvalue \n",
    "of those parameters as its result.Include a main program that reads three values from \n",
    "the user and displays their median."
   ]
  },
  {
   "cell_type": "code",
   "execution_count": 2,
   "metadata": {},
   "outputs": [
    {
     "name": "stdout",
     "output_type": "stream",
     "text": [
      "4\n",
      "10\n",
      "8\n",
      "8\n"
     ]
    }
   ],
   "source": [
    "def median(num_list):\n",
    "    num_list.sort()\n",
    "    return num_list[1]\n",
    "\n",
    "num_list=[]\n",
    "n=0\n",
    "while n<3:\n",
    "    try:\n",
    "        num_list.append(int(input()))\n",
    "        n += 1\n",
    "    except:\n",
    "        pass\n",
    "\n",
    "print(median(num_list))"
   ]
  },
  {
   "cell_type": "code",
   "execution_count": 21,
   "metadata": {},
   "outputs": [
    {
     "name": "stdout",
     "output_type": "stream",
     "text": [
      "ex 1,2,3:5,10,3\n",
      "5\n"
     ]
    }
   ],
   "source": [
    "def median_2(n1, n2, n3):\n",
    "    for i in range(0,2):\n",
    "        if n1<n2:\n",
    "            temp=n1\n",
    "            n1=n2\n",
    "            n2=temp\n",
    "        if n2<n3:\n",
    "            temp=n2\n",
    "            n2=n3\n",
    "            n3=temp\n",
    "    return n2\n",
    "    \n",
    "\n",
    "num1, num2, num3 = map(int, input(\"ex 1,2,3:\").split(','))\n",
    "print(median_2(num1, num2, num3))"
   ]
  },
  {
   "cell_type": "code",
   "execution_count": null,
   "metadata": {},
   "outputs": [],
   "source": []
  },
  {
   "cell_type": "markdown",
   "metadata": {},
   "source": [
    "### 85\n",
    "Words like ﬁrst, second and third are referred to as ordinal numbers. In this exercise, \n",
    "you will write a function that takes an integer as its only parameter and returns a \n",
    "string containing the appropriate English ordinal number as its only result. Your \n",
    "function must handle the integers between 1 and 12 (inclusive). It should return an \n",
    "empty string if a value outside of this range is provided as a parameter. Include a \n",
    "main program that demonstrates your function by displaying each integer from 1 to \n",
    "12 and its ordinal number. Your main program should only run when your ﬁle has \n",
    "not been imported into another program."
   ]
  },
  {
   "cell_type": "code",
   "execution_count": 3,
   "metadata": {},
   "outputs": [
    {
     "name": "stdout",
     "output_type": "stream",
     "text": [
      "5\n",
      "fifth\n",
      "19\n",
      "\n",
      "3\n",
      "third\n",
      "0\n",
      "\n",
      "8\n",
      "eighth\n"
     ]
    }
   ],
   "source": [
    "def ordinal(n):\n",
    "    num_list = list(range(1,13))\n",
    "    ordinal_list = ['first','second','third','fourth','fifth','sixth','seventh','eighth','ninth','tenth','eleventh','twelfth']\n",
    "    if n in num_list:\n",
    "        return ordinal_list[n-1]\n",
    "    else:\n",
    "        return ''\n",
    "\n",
    "c=0\n",
    "while c<5:\n",
    "    try:\n",
    "        print(ordinal(int(input())))\n",
    "        c+=1\n",
    "    except:\n",
    "        pass"
   ]
  },
  {
   "cell_type": "code",
   "execution_count": null,
   "metadata": {},
   "outputs": [],
   "source": []
  },
  {
   "cell_type": "markdown",
   "metadata": {},
   "source": [
    "### 88\n",
    "If you have 3 straws, possibly of differing lengths, it may or may not be possible \n",
    "to lay them down so that they form a triangle when their ends are touching. For \n",
    "example, if all of the straws have a length of 6 inches. then one can easily construct \n",
    "an equilateral triangle using them. However, if one straw is 6 inches. long, while the \n",
    "other two are each only 2 inches. long, then a triangle cannot be formed. In general, \n",
    "if any one length is greater than or equal to the sum of the other two then the lengths \n",
    "cannot be used to form a triangle. Otherwise they can form a triangle.\n",
    "Write a function that determines whether or not three lengths can form a triangle. \n",
    "The function will take 3 parameters and return a Boolean result. In addition, write a \n",
    "program that reads 3 lengths from the user and demonstrates the behaviour of this \n",
    "function."
   ]
  },
  {
   "cell_type": "code",
   "execution_count": 4,
   "metadata": {},
   "outputs": [
    {
     "name": "stdout",
     "output_type": "stream",
     "text": [
      "3\n",
      "4\n",
      "5\n",
      "this is not triangle\n"
     ]
    }
   ],
   "source": [
    "def deter_tri(len_list):\n",
    "    len_list.sort()\n",
    "    if len_list[2] == len_list[0] + len_list[1]:\n",
    "        return True\n",
    "    else:\n",
    "        return False\n",
    "\n",
    "c=0\n",
    "len_list=[]\n",
    "while c<3:\n",
    "    try:\n",
    "        len_list.append(float(input()))\n",
    "        c+=1\n",
    "    except:\n",
    "        pass\n",
    "\n",
    "if deter_tri(len_list):\n",
    "    print('this is triangle')\n",
    "else:\n",
    "    print('this is not triangle')"
   ]
  },
  {
   "cell_type": "code",
   "execution_count": null,
   "metadata": {},
   "outputs": [],
   "source": []
  },
  {
   "cell_type": "markdown",
   "metadata": {},
   "source": [
    "### 92\n",
    "A prime number is an integer greater than 1 that is only divisible by one and itself. \n",
    "Write a function that determines whether or not its parameter is prime, returning \n",
    "True if it is, and False otherwise. Write a main program that reads an integer \n",
    "from the user and displays a message indicating whether or not it is prime. Ensure \n",
    "that the main program will not run if the ﬁle containing your solution is imported \n",
    "into another program."
   ]
  },
  {
   "cell_type": "code",
   "execution_count": 22,
   "metadata": {},
   "outputs": [
    {
     "name": "stdout",
     "output_type": "stream",
     "text": [
      "1\n",
      "is prime number\n",
      "72839\n",
      "is not prime number\n",
      "97\n",
      "is prime number\n"
     ]
    }
   ],
   "source": [
    "def prime(n):\n",
    "    flag = True\n",
    "    div=list(range(2,n))\n",
    "    for i in div:\n",
    "        if n%i == 0:\n",
    "            flag = False\n",
    "            break\n",
    "    return flag\n",
    "\n",
    "c=0\n",
    "while c<3:\n",
    "    try:\n",
    "        num = int(input())\n",
    "        c+=1\n",
    "    except:\n",
    "        pass\n",
    "    else:\n",
    "        if prime(num):\n",
    "            print('is prime number')\n",
    "        else:\n",
    "            print('is not prime number')\n",
    "\n"
   ]
  },
  {
   "cell_type": "code",
   "execution_count": null,
   "metadata": {},
   "outputs": [],
   "source": []
  }
 ],
 "metadata": {
  "kernelspec": {
   "display_name": "Python 3",
   "language": "python",
   "name": "python3"
  },
  "language_info": {
   "codemirror_mode": {
    "name": "ipython",
    "version": 3
   },
   "file_extension": ".py",
   "mimetype": "text/x-python",
   "name": "python",
   "nbconvert_exporter": "python",
   "pygments_lexer": "ipython3",
   "version": "3.6.5"
  }
 },
 "nbformat": 4,
 "nbformat_minor": 2
}
